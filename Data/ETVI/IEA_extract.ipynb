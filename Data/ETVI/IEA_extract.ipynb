{
 "cells": [
  {
   "cell_type": "code",
   "execution_count": 7,
   "metadata": {},
   "outputs": [],
   "source": [
    "import pandas as pd\n",
    "import numpy as np\n",
    "import requests\n",
    "import json"
   ]
  },
  {
   "cell_type": "code",
   "execution_count": 2,
   "metadata": {},
   "outputs": [],
   "source": [
    "URL = \"https://api.iea.org/stats/indicator/TESbySource?countries=[object+Object]&startYear=1990\"\n",
    "\n",
    "def get_data(url):\n",
    "    \"\"\"\n",
    "    Fetch data from the given URL and return it as a pandas DataFrame.\n",
    "    \"\"\"\n",
    "    response = requests.get(url)\n",
    "    if response.status_code == 200:\n",
    "        file = json.loads(response.text)\n",
    "        # Save data to a JSON file\n",
    "        with open(\"TESBySource.json\", \"w\") as f:\n",
    "            json.dump(file, f)\n",
    "    else:\n",
    "        raise Exception(f\"Failed to fetch data: {response.status_code}\")\n",
    "\n",
    "get_data(URL)"
   ]
  },
  {
   "cell_type": "code",
   "execution_count": 3,
   "metadata": {},
   "outputs": [
    {
     "data": {
      "text/html": [
       "<div>\n",
       "<style scoped>\n",
       "    .dataframe tbody tr th:only-of-type {\n",
       "        vertical-align: middle;\n",
       "    }\n",
       "\n",
       "    .dataframe tbody tr th {\n",
       "        vertical-align: top;\n",
       "    }\n",
       "\n",
       "    .dataframe thead th {\n",
       "        text-align: right;\n",
       "    }\n",
       "</style>\n",
       "<table border=\"1\" class=\"dataframe\">\n",
       "  <thead>\n",
       "    <tr style=\"text-align: right;\">\n",
       "      <th></th>\n",
       "      <th>year</th>\n",
       "      <th>short</th>\n",
       "      <th>flowLabel</th>\n",
       "      <th>flowOrder</th>\n",
       "      <th>units</th>\n",
       "      <th>flow</th>\n",
       "      <th>product</th>\n",
       "      <th>productLabel</th>\n",
       "      <th>productOrder</th>\n",
       "      <th>seriesLabel</th>\n",
       "      <th>value</th>\n",
       "      <th>country</th>\n",
       "    </tr>\n",
       "  </thead>\n",
       "  <tbody>\n",
       "    <tr>\n",
       "      <th>0</th>\n",
       "      <td>1990</td>\n",
       "      <td>SOUTHAFRIC</td>\n",
       "      <td>Total energy supply</td>\n",
       "      <td>7</td>\n",
       "      <td>TJ</td>\n",
       "      <td>TES</td>\n",
       "      <td>COAL</td>\n",
       "      <td>Coal</td>\n",
       "      <td>1</td>\n",
       "      <td>Coal</td>\n",
       "      <td>2785859.0</td>\n",
       "      <td>ZAF</td>\n",
       "    </tr>\n",
       "    <tr>\n",
       "      <th>1</th>\n",
       "      <td>1990</td>\n",
       "      <td>SPAIN</td>\n",
       "      <td>Total energy supply</td>\n",
       "      <td>7</td>\n",
       "      <td>TJ</td>\n",
       "      <td>TES</td>\n",
       "      <td>COAL</td>\n",
       "      <td>Coal</td>\n",
       "      <td>1</td>\n",
       "      <td>Coal</td>\n",
       "      <td>806670.0</td>\n",
       "      <td>ESP</td>\n",
       "    </tr>\n",
       "    <tr>\n",
       "      <th>2</th>\n",
       "      <td>1990</td>\n",
       "      <td>SRILANKA</td>\n",
       "      <td>Total energy supply</td>\n",
       "      <td>7</td>\n",
       "      <td>TJ</td>\n",
       "      <td>TES</td>\n",
       "      <td>COAL</td>\n",
       "      <td>Coal</td>\n",
       "      <td>1</td>\n",
       "      <td>Coal</td>\n",
       "      <td>206.0</td>\n",
       "      <td>LKA</td>\n",
       "    </tr>\n",
       "    <tr>\n",
       "      <th>3</th>\n",
       "      <td>1990</td>\n",
       "      <td>SSUDAN</td>\n",
       "      <td>Total energy supply</td>\n",
       "      <td>7</td>\n",
       "      <td>TJ</td>\n",
       "      <td>TES</td>\n",
       "      <td>COAL</td>\n",
       "      <td>Coal</td>\n",
       "      <td>1</td>\n",
       "      <td>Coal</td>\n",
       "      <td>NaN</td>\n",
       "      <td>SSD</td>\n",
       "    </tr>\n",
       "    <tr>\n",
       "      <th>4</th>\n",
       "      <td>1990</td>\n",
       "      <td>SURINAME</td>\n",
       "      <td>Total energy supply</td>\n",
       "      <td>7</td>\n",
       "      <td>TJ</td>\n",
       "      <td>TES</td>\n",
       "      <td>COAL</td>\n",
       "      <td>Coal</td>\n",
       "      <td>1</td>\n",
       "      <td>Coal</td>\n",
       "      <td>NaN</td>\n",
       "      <td>SUR</td>\n",
       "    </tr>\n",
       "  </tbody>\n",
       "</table>\n",
       "</div>"
      ],
      "text/plain": [
       "   year       short            flowLabel  flowOrder units flow product  \\\n",
       "0  1990  SOUTHAFRIC  Total energy supply          7    TJ  TES    COAL   \n",
       "1  1990       SPAIN  Total energy supply          7    TJ  TES    COAL   \n",
       "2  1990    SRILANKA  Total energy supply          7    TJ  TES    COAL   \n",
       "3  1990      SSUDAN  Total energy supply          7    TJ  TES    COAL   \n",
       "4  1990    SURINAME  Total energy supply          7    TJ  TES    COAL   \n",
       "\n",
       "  productLabel  productOrder seriesLabel      value country  \n",
       "0         Coal             1        Coal  2785859.0     ZAF  \n",
       "1         Coal             1        Coal   806670.0     ESP  \n",
       "2         Coal             1        Coal      206.0     LKA  \n",
       "3         Coal             1        Coal        NaN     SSD  \n",
       "4         Coal             1        Coal        NaN     SUR  "
      ]
     },
     "execution_count": 3,
     "metadata": {},
     "output_type": "execute_result"
    }
   ],
   "source": [
    "df = pd.read_json(\"TESBySource.json\")\n",
    "df.head()"
   ]
  },
  {
   "cell_type": "code",
   "execution_count": 4,
   "metadata": {},
   "outputs": [
    {
     "data": {
      "text/plain": [
       "(31633, 12)"
      ]
     },
     "execution_count": 4,
     "metadata": {},
     "output_type": "execute_result"
    }
   ],
   "source": [
    "df.shape"
   ]
  },
  {
   "cell_type": "code",
   "execution_count": 5,
   "metadata": {},
   "outputs": [
    {
     "data": {
      "text/plain": [
       "array(['Coal', 'Natural gas', 'Hydro', 'Nuclear', 'Wind, solar, etc.',\n",
       "       'Biofuels and waste', 'Oil'], dtype=object)"
      ]
     },
     "execution_count": 5,
     "metadata": {},
     "output_type": "execute_result"
    }
   ],
   "source": [
    "df['productLabel'].unique()"
   ]
  },
  {
   "cell_type": "code",
   "execution_count": 6,
   "metadata": {},
   "outputs": [],
   "source": [
    "df.to_csv('TESBySource.csv', index=False)"
   ]
  },
  {
   "cell_type": "code",
   "execution_count": 12,
   "metadata": {},
   "outputs": [
    {
     "data": {
      "text/plain": [
       "Country Code                    0\n",
       "Country Name                    0\n",
       "Year                            0\n",
       "ff_supply_mix_norm            804\n",
       "ff_electricity_mix_norm      1819\n",
       "ff_export_gdp_norm            248\n",
       "ff_rents_gdp_norm               0\n",
       "energy_consumption_norm      1640\n",
       "energy_intensity_norm         100\n",
       "gini_index_norm              1538\n",
       "bottom20_income_norm         1538\n",
       "unemployment_rate_norm         96\n",
       "age_dependency_ratio_norm       0\n",
       "rd_expenditure_norm           975\n",
       "rd_researchers_norm          1227\n",
       "gov_spending_norm             345\n",
       "gov_revenue_norm              218\n",
       "E_dim                           0\n",
       "S_dim                           0\n",
       "A_dim                           0\n",
       "ETVI                            0\n",
       "dtype: int64"
      ]
     },
     "execution_count": 12,
     "metadata": {},
     "output_type": "execute_result"
    }
   ],
   "source": [
    "df2 = pd.read_csv('ETVI_Results.csv')\n",
    "df2.isna().sum()"
   ]
  }
 ],
 "metadata": {
  "kernelspec": {
   "display_name": "Python 3",
   "language": "python",
   "name": "python3"
  },
  "language_info": {
   "codemirror_mode": {
    "name": "ipython",
    "version": 3
   },
   "file_extension": ".py",
   "mimetype": "text/x-python",
   "name": "python",
   "nbconvert_exporter": "python",
   "pygments_lexer": "ipython3",
   "version": "3.12.5"
  }
 },
 "nbformat": 4,
 "nbformat_minor": 2
}
